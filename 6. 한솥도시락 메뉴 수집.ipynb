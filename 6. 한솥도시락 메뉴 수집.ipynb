{
 "cells": [
  {
   "cell_type": "code",
   "execution_count": 1,
   "metadata": {},
   "outputs": [],
   "source": [
    "# 셀레니움 라이브러리 로딩\n",
    "\n",
    "# 브라우저\n",
    "from selenium import webdriver as wb\n",
    "\n",
    "# 키보드\n",
    "from selenium.webdriver.common.keys import Keys\n",
    "\n",
    "# 구분자\n",
    "from selenium.webdriver.common.by import By\n",
    "\n",
    "# 지연 시간\n",
    "import time\n",
    "\n",
    "# 데이터프레임\n",
    "import pandas as pd"
   ]
  },
  {
   "cell_type": "code",
   "execution_count": 2,
   "metadata": {},
   "outputs": [],
   "source": [
    "url = 'https://www.hsd.co.kr/menu/menu_list'\n",
    "driver = wb.Chrome()\n",
    "driver.get(url)"
   ]
  },
  {
   "cell_type": "code",
   "execution_count": 6,
   "metadata": {},
   "outputs": [],
   "source": [
    "# '더보기' 요소 접근하기\n",
    "# 클릭\n",
    "# 클릭 횟수 : 각자 다름 !\n",
    "\n",
    "driver.find_element(By.CLASS_NAME, 'c_05').click()"
   ]
  },
  {
   "cell_type": "code",
   "execution_count": 8,
   "metadata": {},
   "outputs": [],
   "source": [
    "# 더보기 클릭을 반복문으로 구현\n",
    "\n",
    "for i in range(1) :\n",
    "    driver.find_element(By.CLASS_NAME, 'c_05').click()\n",
    "    time.sleep(1)\n"
   ]
  },
  {
   "cell_type": "code",
   "execution_count": 29,
   "metadata": {},
   "outputs": [
    {
     "data": {
      "text/plain": [
       "(91, 91)"
      ]
     },
     "execution_count": 29,
     "metadata": {},
     "output_type": "execute_result"
    }
   ],
   "source": [
    "# 도시락 메뉴(이름)와 가격 수집 후 출력\n",
    "menu = driver.find_elements(By.CSS_SELECTOR, 'h4.h.fz_03')\n",
    "\n",
    "# 가격 수집\n",
    "price = driver.find_elements(By.CSS_SELECTOR, 'div.item-price > strong')\n",
    "\n",
    "# 길이 확인\n",
    "len(menu), len(price)"
   ]
  },
  {
   "cell_type": "code",
   "execution_count": 33,
   "metadata": {},
   "outputs": [
    {
     "data": {
      "text/html": [
       "<div>\n",
       "<style scoped>\n",
       "    .dataframe tbody tr th:only-of-type {\n",
       "        vertical-align: middle;\n",
       "    }\n",
       "\n",
       "    .dataframe tbody tr th {\n",
       "        vertical-align: top;\n",
       "    }\n",
       "\n",
       "    .dataframe thead th {\n",
       "        text-align: right;\n",
       "    }\n",
       "</style>\n",
       "<table border=\"1\" class=\"dataframe\">\n",
       "  <thead>\n",
       "    <tr style=\"text-align: right;\">\n",
       "      <th></th>\n",
       "      <th>메뉴</th>\n",
       "      <th>가격</th>\n",
       "    </tr>\n",
       "  </thead>\n",
       "  <tbody>\n",
       "    <tr>\n",
       "      <th>0</th>\n",
       "      <td>치즈버터 해시 포테이토 스틱</td>\n",
       "      <td>2,200원</td>\n",
       "    </tr>\n",
       "    <tr>\n",
       "      <th>1</th>\n",
       "      <td>허니버터 해시 포테이토 스틱</td>\n",
       "      <td>2,200원</td>\n",
       "    </tr>\n",
       "    <tr>\n",
       "      <th>2</th>\n",
       "      <td>새후마요</td>\n",
       "      <td>4,500원</td>\n",
       "    </tr>\n",
       "    <tr>\n",
       "      <th>3</th>\n",
       "      <td>숯불직화구이 두부강된장</td>\n",
       "      <td>8,200원</td>\n",
       "    </tr>\n",
       "    <tr>\n",
       "      <th>4</th>\n",
       "      <td>해시 포테이토 스틱</td>\n",
       "      <td>2,000원</td>\n",
       "    </tr>\n",
       "    <tr>\n",
       "      <th>...</th>\n",
       "      <td>...</td>\n",
       "      <td>...</td>\n",
       "    </tr>\n",
       "    <tr>\n",
       "      <th>86</th>\n",
       "      <td>무말랭이 무침</td>\n",
       "      <td>500원</td>\n",
       "    </tr>\n",
       "    <tr>\n",
       "      <th>87</th>\n",
       "      <td>한솥밥</td>\n",
       "      <td>1,000원</td>\n",
       "    </tr>\n",
       "    <tr>\n",
       "      <th>88</th>\n",
       "      <td>현미밥</td>\n",
       "      <td>1,700원</td>\n",
       "    </tr>\n",
       "    <tr>\n",
       "      <th>89</th>\n",
       "      <td>리얼 티라미수 찰떡</td>\n",
       "      <td>1,700원</td>\n",
       "    </tr>\n",
       "    <tr>\n",
       "      <th>90</th>\n",
       "      <td>리얼꿀 미니호떡</td>\n",
       "      <td>2,200원</td>\n",
       "    </tr>\n",
       "  </tbody>\n",
       "</table>\n",
       "<p>91 rows × 2 columns</p>\n",
       "</div>"
      ],
      "text/plain": [
       "                 메뉴      가격\n",
       "0   치즈버터 해시 포테이토 스틱  2,200원\n",
       "1   허니버터 해시 포테이토 스틱  2,200원\n",
       "2              새후마요  4,500원\n",
       "3      숯불직화구이 두부강된장  8,200원\n",
       "4        해시 포테이토 스틱  2,000원\n",
       "..              ...     ...\n",
       "86          무말랭이 무침    500원\n",
       "87              한솥밥  1,000원\n",
       "88              현미밥  1,700원\n",
       "89       리얼 티라미수 찰떡  1,700원\n",
       "90         리얼꿀 미니호떡  2,200원\n",
       "\n",
       "[91 rows x 2 columns]"
      ]
     },
     "execution_count": 33,
     "metadata": {},
     "output_type": "execute_result"
    }
   ],
   "source": [
    "# 데이터프레임으로 결과 만들어보기\n",
    "menu_list = []\n",
    "price_list = []\n",
    "\n",
    "for i in range(len(menu)) :\n",
    "    menu_list.append(menu[i].text)\n",
    "    price_list.append(price[i].text + '원')\n",
    "\n",
    "data = {'메뉴':menu_list,'가격':price_list}\n",
    "pd.DataFrame(data)"
   ]
  },
  {
   "attachments": {},
   "cell_type": "markdown",
   "metadata": {},
   "source": [
    "### ActionChains\n",
    "- 내가 동작할 액션(행동)들을 묶어서 실행할 때"
   ]
  },
  {
   "cell_type": "code",
   "execution_count": 34,
   "metadata": {},
   "outputs": [],
   "source": [
    "url = 'https://www.hsd.co.kr/'\n",
    "driver = wb.Chrome()\n",
    "driver.get(url)"
   ]
  },
  {
   "attachments": {},
   "cell_type": "markdown",
   "metadata": {},
   "source": [
    "### 선택자를 한꺼번에 가지고 오는 팁\n",
    "- 개발자 도구에서 하는 요소(검사해서 나온 결과)에 마우스 우클릭 !\n",
    "    - copy탭 > copy selector(선택자 복사) 클릭\n",
    "    \n",
    "## 주의할 점 !\n",
    "- 무조건 내가 선택한 요소 한 개만 가지고 올 수 있다.\n",
    "    - 복수개의 데이터가 필요한 경우에는 선택자를 수정\n",
    "        - ex) nth-child() 지워주는 경우가 가장 많다 !"
   ]
  },
  {
   "cell_type": "code",
   "execution_count": 63,
   "metadata": {},
   "outputs": [],
   "source": [
    "# 1. MENU 탭에 마우스 이동\n",
    "# 2. 전체메뉴를 클릭\n",
    "# #gnb > div.gnb_menu > ul > li:nth-child(3) > p > a \n",
    "menu_bar = driver.find_element(By.CSS_SELECTOR, '#gnb > div.gnb_menu > ul > li:nth-child(3) > p > a')\n",
    "all_menu = driver.find_element(By.CSS_SELECTOR, '#gnb > div.gnb_menu > ul > li:nth-child(3) > div > ul > li:nth-child(1) > a')\n",
    "\n",
    "wb.ActionChains(driver).move_to_element(menu_bar).click(all_menu).perform()"
   ]
  },
  {
   "cell_type": "code",
   "execution_count": null,
   "metadata": {},
   "outputs": [],
   "source": []
  },
  {
   "cell_type": "code",
   "execution_count": null,
   "metadata": {},
   "outputs": [],
   "source": []
  },
  {
   "cell_type": "code",
   "execution_count": null,
   "metadata": {},
   "outputs": [],
   "source": []
  },
  {
   "cell_type": "code",
   "execution_count": null,
   "metadata": {},
   "outputs": [],
   "source": []
  },
  {
   "cell_type": "code",
   "execution_count": null,
   "metadata": {},
   "outputs": [],
   "source": []
  },
  {
   "cell_type": "code",
   "execution_count": null,
   "metadata": {},
   "outputs": [],
   "source": []
  },
  {
   "cell_type": "code",
   "execution_count": null,
   "metadata": {},
   "outputs": [],
   "source": []
  },
  {
   "cell_type": "code",
   "execution_count": null,
   "metadata": {},
   "outputs": [],
   "source": []
  },
  {
   "cell_type": "code",
   "execution_count": null,
   "metadata": {},
   "outputs": [],
   "source": []
  },
  {
   "cell_type": "code",
   "execution_count": null,
   "metadata": {},
   "outputs": [],
   "source": []
  },
  {
   "cell_type": "code",
   "execution_count": null,
   "metadata": {},
   "outputs": [],
   "source": []
  },
  {
   "cell_type": "code",
   "execution_count": null,
   "metadata": {},
   "outputs": [],
   "source": []
  },
  {
   "cell_type": "code",
   "execution_count": null,
   "metadata": {},
   "outputs": [],
   "source": []
  },
  {
   "cell_type": "code",
   "execution_count": null,
   "metadata": {},
   "outputs": [],
   "source": []
  },
  {
   "cell_type": "code",
   "execution_count": null,
   "metadata": {},
   "outputs": [],
   "source": []
  },
  {
   "cell_type": "code",
   "execution_count": null,
   "metadata": {},
   "outputs": [],
   "source": []
  },
  {
   "cell_type": "code",
   "execution_count": null,
   "metadata": {},
   "outputs": [],
   "source": []
  },
  {
   "cell_type": "code",
   "execution_count": null,
   "metadata": {},
   "outputs": [],
   "source": []
  },
  {
   "cell_type": "code",
   "execution_count": null,
   "metadata": {},
   "outputs": [],
   "source": []
  },
  {
   "cell_type": "code",
   "execution_count": null,
   "metadata": {},
   "outputs": [],
   "source": []
  }
 ],
 "metadata": {
  "kernelspec": {
   "display_name": "base",
   "language": "python",
   "name": "python3"
  },
  "language_info": {
   "codemirror_mode": {
    "name": "ipython",
    "version": 3
   },
   "file_extension": ".py",
   "mimetype": "text/x-python",
   "name": "python",
   "nbconvert_exporter": "python",
   "pygments_lexer": "ipython3",
   "version": "3.9.13"
  },
  "orig_nbformat": 4
 },
 "nbformat": 4,
 "nbformat_minor": 2
}
