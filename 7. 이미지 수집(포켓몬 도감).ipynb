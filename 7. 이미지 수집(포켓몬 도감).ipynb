{
 "cells": [
  {
   "cell_type": "code",
   "execution_count": 2,
   "metadata": {},
   "outputs": [],
   "source": [
    "# selenium 라이브러리 로딩\n",
    "\n",
    "# 브라우저\n",
    "from selenium import webdriver as wb\n",
    "\n",
    "# 키보드\n",
    "from selenium.webdriver.common.keys import Keys\n",
    "\n",
    "# 구분자\n",
    "from selenium.webdriver.common.by import By\n",
    "\n",
    "# 지연 시간\n",
    "import time\n",
    "\n",
    "# 데이터 활용(데이터프레임)\n",
    "import pandas as pd\n",
    "\n",
    "# 파일 시스템을 위한 라이브러리(파이르 폴더를 생성/삭제 역할)\n",
    "import os\n",
    "\n",
    "# 이미지파일의 url값을 파일로 저장해주는 라이브러리\n",
    "from urllib.request import urlretrieve"
   ]
  },
  {
   "cell_type": "code",
   "execution_count": 3,
   "metadata": {},
   "outputs": [],
   "source": [
    "url = 'https://pokemonkorea.co.kr/pokedex'\n",
    "driver = wb.Chrome()\n",
    "driver.get(url)"
   ]
  },
  {
   "attachments": {},
   "cell_type": "markdown",
   "metadata": {},
   "source": [
    "### 스크롤 내리기가 필요하다 !\n",
    "> 스크롤을 전부 다 내릴때는 while문을 사용하면 안된다 !  \n",
    "> why ? body태그는 해당 페이지에 계속 존재하니까 결국 무한루프에 빠지게된다.  \n",
    "> 한솥도시락에서 했던 더보기 버튼은 누르다보면 사라졌었다 .. (에러발생)\n",
    "- for i in range(20) : 20번 내리겠다 !"
   ]
  },
  {
   "cell_type": "code",
   "execution_count": 16,
   "metadata": {},
   "outputs": [],
   "source": [
    "# 스크롤 내리기 (이미지 파일 로딩을 미리 해주기 위함)\n",
    "for i in range(100) :\n",
    "    body = driver.find_elements(By.CSS_SELECTOR, 'body')\n",
    "    body[0].send_keys(Keys.END)"
   ]
  },
  {
   "cell_type": "code",
   "execution_count": 18,
   "metadata": {},
   "outputs": [
    {
     "data": {
      "text/plain": [
       "'https://data1.pokemonkorea.co.kr/newdata/pokedex/mid/000101.png'"
      ]
     },
     "execution_count": 18,
     "metadata": {},
     "output_type": "execute_result"
    }
   ],
   "source": [
    "imgs = driver.find_elements(By.CSS_SELECTOR, '.img-fluid')\n",
    "\n",
    "len(imgs)\n",
    "\n",
    "imgs[0].get_attribute('src')"
   ]
  },
  {
   "cell_type": "code",
   "execution_count": 19,
   "metadata": {},
   "outputs": [],
   "source": [
    "# src를 저장해주는 빈 리스트 생성\n",
    "src_list = []\n",
    "\n",
    "for i in imgs :\n",
    "    src_list.append(i.get_attribute('src'))"
   ]
  },
  {
   "cell_type": "code",
   "execution_count": 20,
   "metadata": {},
   "outputs": [],
   "source": [
    "# 바탕화면에 이미지라는 폴더가 없다면,\n",
    "if not os.path.isdir('C:/Users/smhrd/Desktop/이미지') :\n",
    "    # 바탕화면에 이미지라는 폴더를 만들어줘 !\n",
    "    os.mkdir('C:/Users/smhrd/Desktop/이미지')"
   ]
  },
  {
   "cell_type": "code",
   "execution_count": 22,
   "metadata": {},
   "outputs": [],
   "source": [
    "# src경로를 파일로 변환\n",
    "cnt = 1\n",
    "\n",
    "for i in src_list :\n",
    "    urlretrieve(i, 'C:/Users/smhrd/Desktop/이미지/포켓몬' + str(cnt) + '.jpg')\n",
    "    cnt += 1\n",
    "    \n",
    "# 복합대입연산자 사용하는 이유 !\n",
    "# 값을 누적시키기 위함 -> 그래서 가독성이 좋아짐"
   ]
  }
 ],
 "metadata": {
  "kernelspec": {
   "display_name": "base",
   "language": "python",
   "name": "python3"
  },
  "language_info": {
   "codemirror_mode": {
    "name": "ipython",
    "version": 3
   },
   "file_extension": ".py",
   "mimetype": "text/x-python",
   "name": "python",
   "nbconvert_exporter": "python",
   "pygments_lexer": "ipython3",
   "version": "3.9.13"
  },
  "orig_nbformat": 4
 },
 "nbformat": 4,
 "nbformat_minor": 2
}
