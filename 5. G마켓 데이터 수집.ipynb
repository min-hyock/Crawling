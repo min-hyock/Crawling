{
 "cells": [
  {
   "attachments": {},
   "cell_type": "markdown",
   "metadata": {},
   "source": [
    "### 사용자 입장에서 해야 할 step !\n",
    "- G마켓 BEST상품의 1위부터 10위까지의 데이터를 수집\n",
    "- 중요한 것 !\n",
    "    - 첫 번째에 있는 상품을 클릭한 다음에 해당 상품의 이름과 가격 정보를 수집\n",
    "    - 뒤로 간 다음 두 번째에 있는 상품을 클릭, 수집 똑같은 말을 반복 중\n",
    "    - while ? for ? 어떤 것이 적합 ? -> for문 / 10번 정해져 있기 때문"
   ]
  },
  {
   "cell_type": "code",
   "execution_count": 1,
   "metadata": {},
   "outputs": [],
   "source": [
    "# selenium 라이브러리 로딩\n",
    "\n",
    "# 브라우저 역할 - 컴퓨터용 브라우저\n",
    "from selenium import webdriver as wb\n",
    "\n",
    "# 키보드 역할 (Keys K대문자 !!) - 컴퓨터용 키보드\n",
    "from selenium.webdriver.common.keys import Keys\n",
    "\n",
    "# 구분자 역할 (By B대문자 !!) - 선택자를 구분\n",
    "from selenium.webdriver.common.by import By\n",
    "\n",
    "# 수집한 이후 데이터프레임까지 만들어볼 예정\n",
    "import pandas as pd\n",
    "\n",
    "# 지연시간 설정\n",
    "import time"
   ]
  },
  {
   "cell_type": "code",
   "execution_count": 2,
   "metadata": {},
   "outputs": [],
   "source": [
    "driver = wb.Chrome()\n",
    "url = 'https://corners.gmarket.co.kr/bestsellers'\n",
    "driver.get(url)"
   ]
  },
  {
   "attachments": {},
   "cell_type": "markdown",
   "metadata": {},
   "source": [
    "#### 반복문을 시작하기 전 하나의 프로세스를 완벽하게 짜보기\n",
    "#### 잘 완성되면 반복문 안에 프로세스를 통째로 넣어주기만 하면 됨!\n",
    "1. 상품의 이미지를 클릭 (화면 변경)\n",
    "> 사용자는 첫 번째 상품을 알 수 있지만 컴퓨터는 알 수 없다 !  \n",
    "> 어떤 태그로 구성되어 있는지 검사해서 알려줘야 함\n",
    "2. 상품의 이름과 가격을 수집\n",
    "3. 페이지 뒤로가기 (화면 변경)"
   ]
  },
  {
   "cell_type": "code",
   "execution_count": 4,
   "metadata": {},
   "outputs": [],
   "source": [
    "# 1. 상품의 이미지를 클릭\n",
    "\n",
    "# 1-1. 이미지를 클릭하기 위해서 이미지 태그들을 알려줘야 함\n",
    "imgs = driver.find_elements(By.CLASS_NAME, 'lazy')\n",
    "\n",
    "# 1-2. 이미지 클릭\n",
    "imgs[0].click()\n",
    "\n",
    "# 요청을 복수개로 했으니 응답도 복수개이다 -> [리스트]"
   ]
  },
  {
   "cell_type": "code",
   "execution_count": 9,
   "metadata": {},
   "outputs": [
    {
     "data": {
      "text/plain": [
       "'1+1 아모스 컬링 에센스 2X 150ml 당일발송 (최종 12680원)'"
      ]
     },
     "execution_count": 9,
     "metadata": {},
     "output_type": "execute_result"
    }
   ],
   "source": [
    "# 2-1. 상품명 수집\n",
    "\n",
    "# 조회하고자 하는 요소가 class를 가지고 있을 경우에는\n",
    "# 먼저 ! elements(복수)로 요청해본다.\n",
    "# 그 다음에 데이터가 한 개만 넘어온다면, element(단일)로 수정해서 활용하면 편하다 !\n",
    "title = driver.find_element(By.CLASS_NAME, 'itemtit')\n",
    "title.text"
   ]
  },
  {
   "cell_type": "code",
   "execution_count": 11,
   "metadata": {},
   "outputs": [
    {
     "data": {
      "text/plain": [
       "'16,900원'"
      ]
     },
     "execution_count": 11,
     "metadata": {},
     "output_type": "execute_result"
    }
   ],
   "source": [
    "# 2-2. 상품 가격 수집\n",
    "# price 변수에 담아서 price.text 컨텐츠 추출\n",
    "\n",
    "price = driver.find_element(By.CLASS_NAME, 'price_real')\n",
    "price.text"
   ]
  },
  {
   "cell_type": "code",
   "execution_count": 12,
   "metadata": {},
   "outputs": [],
   "source": [
    "# 페이지 뒤로가기\n",
    "driver.back()"
   ]
  },
  {
   "cell_type": "code",
   "execution_count": 13,
   "metadata": {},
   "outputs": [],
   "source": [
    "# 1번부터 5번까지 데이터 수집\n",
    "\n",
    "for i in range(5) :\n",
    "    \n",
    "    imgs = driver.find_elements(By.CLASS_NAME, 'lazy')\n",
    "    imgs[i].click()\n",
    "    \n",
    "    title = driver.find_element(By.CLASS_NAME, 'itemtit')\n",
    "    title.text\n",
    "    \n",
    "    price = driver.find_element(By.CLASS_NAME, 'price_real')\n",
    "    price.text\n",
    "    \n",
    "    driver.back()\n",
    "    "
   ]
  },
  {
   "cell_type": "code",
   "execution_count": null,
   "metadata": {},
   "outputs": [],
   "source": []
  },
  {
   "cell_type": "code",
   "execution_count": null,
   "metadata": {},
   "outputs": [],
   "source": []
  },
  {
   "cell_type": "code",
   "execution_count": null,
   "metadata": {},
   "outputs": [],
   "source": []
  },
  {
   "cell_type": "code",
   "execution_count": null,
   "metadata": {},
   "outputs": [],
   "source": []
  },
  {
   "cell_type": "code",
   "execution_count": null,
   "metadata": {},
   "outputs": [],
   "source": []
  },
  {
   "cell_type": "code",
   "execution_count": null,
   "metadata": {},
   "outputs": [],
   "source": []
  },
  {
   "cell_type": "code",
   "execution_count": null,
   "metadata": {},
   "outputs": [],
   "source": []
  },
  {
   "cell_type": "code",
   "execution_count": null,
   "metadata": {},
   "outputs": [],
   "source": []
  },
  {
   "cell_type": "code",
   "execution_count": null,
   "metadata": {},
   "outputs": [],
   "source": []
  },
  {
   "cell_type": "code",
   "execution_count": null,
   "metadata": {},
   "outputs": [],
   "source": []
  },
  {
   "cell_type": "code",
   "execution_count": null,
   "metadata": {},
   "outputs": [],
   "source": []
  },
  {
   "cell_type": "code",
   "execution_count": null,
   "metadata": {},
   "outputs": [],
   "source": []
  },
  {
   "cell_type": "code",
   "execution_count": null,
   "metadata": {},
   "outputs": [],
   "source": []
  }
 ],
 "metadata": {
  "kernelspec": {
   "display_name": "base",
   "language": "python",
   "name": "python3"
  },
  "language_info": {
   "codemirror_mode": {
    "name": "ipython",
    "version": 3
   },
   "file_extension": ".py",
   "mimetype": "text/x-python",
   "name": "python",
   "nbconvert_exporter": "python",
   "pygments_lexer": "ipython3",
   "version": "3.9.13"
  },
  "orig_nbformat": 4
 },
 "nbformat": 4,
 "nbformat_minor": 2
}
