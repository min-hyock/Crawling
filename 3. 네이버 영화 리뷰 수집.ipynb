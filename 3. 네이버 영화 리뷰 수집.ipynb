{
 "cells": [
  {
   "cell_type": "code",
   "execution_count": 2,
   "metadata": {
    "ExecuteTime": {
     "end_time": "2023-03-27T03:48:14.204401Z",
     "start_time": "2023-03-27T03:48:13.748254Z"
    }
   },
   "outputs": [],
   "source": [
    "# 라이브러리 로딩\n",
    "import requests as req\n",
    "import pandas as pd\n",
    "from bs4 import BeautifulSoup as bs\n",
    "\n",
    "# 요청할 때 지연시간을 주기 위한 라이브러리\n",
    "# 페이지가 변화할 때(로딩시간)마다 지연시간을 주어야 한다. \n",
    "import time"
   ]
  },
  {
   "cell_type": "code",
   "execution_count": 3,
   "metadata": {
    "ExecuteTime": {
     "end_time": "2023-03-27T03:48:14.300181Z",
     "start_time": "2023-03-27T03:48:14.205372Z"
    }
   },
   "outputs": [],
   "source": [
    "url = 'https://movie.naver.com/movie/bi/mi/pointWriteFormList.naver?code=81888&type=after&isActualPointWriteExecute=false&isMileageSubscriptionAlready=false&isMileageSubscriptionReject=false'\n",
    "res = req.get(url)"
   ]
  },
  {
   "cell_type": "code",
   "execution_count": 4,
   "metadata": {
    "ExecuteTime": {
     "end_time": "2023-03-27T03:48:14.316139Z",
     "start_time": "2023-03-27T03:48:14.301152Z"
    }
   },
   "outputs": [],
   "source": [
    "soup = bs(res.text, 'lxml')"
   ]
  },
  {
   "cell_type": "code",
   "execution_count": 5,
   "metadata": {
    "ExecuteTime": {
     "end_time": "2023-03-27T03:48:14.332097Z",
     "start_time": "2023-03-27T03:48:14.317145Z"
    }
   },
   "outputs": [
    {
     "data": {
      "text/plain": [
       "<span id=\"_filtered_ment_1\">\n",
       "\t\t\t\t\t\t\t\t\t\t\t\t\t\t\n",
       "\t\t\t\t\t\t\t\t\t\t\t\t\t\t\t\n",
       "\t\t\t\t\t\t\t\t\t\t\t\t\t\t\t\n",
       "\t\t\t\t\t\t\t\t\t\t\t\t\t\t\t\t영화관이 필요한 이유 \n",
       "\t\t\t\t\t\t\t\t\t\t\t\t\t\t\t\n",
       "\t\t\t\t\t\t\t\t\t\t\t\t\t\t\n",
       "\t\t\t\t\t\t\t\t\t\t\t\t\t\t\n",
       "\t\t\t\t\t\t\t\t\t\t\t\t\t</span>"
      ]
     },
     "execution_count": 5,
     "metadata": {},
     "output_type": "execute_result"
    }
   ],
   "source": [
    "reple = soup.select('div.score_reple > p > span')\n",
    "len(reple)\n",
    "reple[3]"
   ]
  },
  {
   "cell_type": "code",
   "execution_count": 6,
   "metadata": {
    "ExecuteTime": {
     "end_time": "2023-03-27T03:48:14.348053Z",
     "start_time": "2023-03-27T03:48:14.333093Z"
    }
   },
   "outputs": [
    {
     "name": "stdout",
     "output_type": "stream",
     "text": [
      "평점 잘 안주는데 만점 줄려고 왔다\n",
      "영화관이 필요한 이유\n",
      "중국 애들은 불쌍타 나라 잘못 만나서 이런 영화를 극장에서 못보다니 ㅋㅋ\n",
      "감동의눈물 나올정도입니다. 평점10점급임.  내가 전투기 탄 기분이였음\n",
      "이 시대의 마지막 액션스타, \"톰 크루즈\"\n",
      "탑건1(1986년)의 36년만의 나온 속편. 매우 만족 스러웠고 매우 재밌었다 무조건 특별관에서 봐야되는 영화 2022년 개봉작 영화중에서 범죄도시2 이후 2번째로 엄청 좋았던 영화 톰 크루즈 미모는 여전히 잘생겼다...\n",
      "다른 말이 필요한가 레.전.드\n",
      "개쩐다 말이 필요없음 직접확인\n",
      "감동까지 겸비한 최고의 블록버스터\n",
      "지린다... 지려 할말이 없게 만듬..\n"
     ]
    }
   ],
   "source": [
    "for i in range(len(reple)) :\n",
    "    if i % 2 == 1 :\n",
    "        # 불필요한 공백들이 존재하기 때문에 strip() 함수를 활용 ! (양옆 공백 제거)\n",
    "        print(reple[i].text.strip())"
   ]
  },
  {
   "cell_type": "code",
   "execution_count": 7,
   "metadata": {
    "ExecuteTime": {
     "end_time": "2023-03-27T03:48:14.364010Z",
     "start_time": "2023-03-27T03:48:14.349057Z"
    }
   },
   "outputs": [],
   "source": [
    "# 1 ~ 10 페이지 리뷰데이터 수집\n",
    "# 다른 페이지를 요청하는 로직 구현 --> URL 패턴 분석 !"
   ]
  },
  {
   "cell_type": "code",
   "execution_count": 8,
   "metadata": {
    "ExecuteTime": {
     "end_time": "2023-03-27T03:48:15.294747Z",
     "start_time": "2023-03-27T03:48:14.365013Z"
    }
   },
   "outputs": [
    {
     "name": "stdout",
     "output_type": "stream",
     "text": [
      "평점 잘 안주는데 만점 줄려고 왔다\n",
      "영화관이 필요한 이유\n",
      "중국 애들은 불쌍타 나라 잘못 만나서 이런 영화를 극장에서 못보다니 ㅋㅋ\n",
      "감동의눈물 나올정도입니다. 평점10점급임.  내가 전투기 탄 기분이였음\n",
      "이 시대의 마지막 액션스타, \"톰 크루즈\"\n",
      "탑건1(1986년)의 36년만의 나온 속편. 매우 만족 스러웠고 매우 재밌었다 무조건 특별관에서 봐야되는 영화 2022년 개봉작 영화중에서 범죄도시2 이후 2번째로 엄청 좋았던 영화 톰 크루즈 미모는 여전히 잘생겼다...\n",
      "다른 말이 필요한가 레.전.드\n",
      "개쩐다 말이 필요없음 직접확인\n",
      "감동까지 겸비한 최고의 블록버스터\n",
      "지린다... 지려 할말이 없게 만듬..\n",
      "영화관에서 탑건 보고 집에 가려고 차 핸들 잡는데 F-18 탄것도 아니면서 쓸데없이 비장해짐\n",
      "돌아가신 아버지가 탑건1을 좋아하셨는데 살아계시다면 꼭 함께 아이맥스관에서 관람하고 싶었어요 아버지와 함께 보는 기분으로 봤어요\n",
      "영화 보고 이렇게 기분 좋게 나왔던거 너무 오랜만인것같다 ㅋㅋㅋ\n",
      "CG시대에 실제 항공기 비행촬영을 한, OTT시대에도 왜 영화관이어야 하는지 새삼 알려준, 헐리우드 영화 황금기 그 시절 극장에서 박수치고 가슴뛰며 보던 그 흥분을 다시 느끼게 해준 영화! 오프닝 탑건 ANTHEM과...\n",
      "범죄도시2 재미있죠. 그런데 말입니다, 이거 한번 보고 오시죠.비행기 액션 영화인데 가슴이 웅장해지고 눈물 나올뻔함. 아니 진심 울컥했다니까요. 주변에서 눈물 삼키는 소리인지, 에어컨 때문에 추워서 코 훌쩍이는건진 ...\n",
      "기체 틀때 파일럿의 몸도 제껴 지니 나까지 심장이  터질듯했다. 미친 명화  탄생  10점 밖에  못 줘서  미안하다.탐형님 만수무강하시길\n",
      "마하10 별점10점!!\n",
      "매버릭은 낭만 그자체다 우리는 탐크루즈 시대의 살고있다\n",
      "미친영화 진심 미친영화특히 마지막 15분은 진짜 영화의 대비를 장식하는 역대 최고의 전투기씬. 톰 크루즈 커리어에 영원히 남을 올해 최고의 대작영화는 진짜 이렇게 만들어야 한다최고의 대작!!3번 보고 또 볼 예정\n",
      "3~40년을 건너뛰어 돌아온 것 만으로도 열광할 이유는 충분하다... 찬사를 보낸다.\n",
      "올해 본 영화 중에 가장 최고의 영화다... 기립박수 치고 싶은 심정\n",
      "역시 실망시키지 않는 천조국 영화 완전 미국 그 자체인 영화 미국인이 보면 국뽕이 한계치까지 차오르는 영화 미국이 자랑스러울 영화 진짜 미국의 군사력 전투력 파일럿 세계최고 영화의 영상미 연출 스토리 연기 모든게 완...\n",
      "평점 잘안주는데 만점입니다\n",
      "어 그냥 조용히 하고 그냥 보고와 후회는 절대 안해. 이런게 예술이지\n",
      "이 영화를 관람하는 데에 있어서 현금 10만원을 내라고 해도 10만원이 전혀 아깝지 않은 영화이다 역사에 길이 남을 영화...대박이라는 말 밖에 안나온다\n",
      "개봉일 용아맥 20시40분꺼 영화끝나고 좌립박수나옴 ㅋ\n",
      "이렇게 모든 부분에서 완벽한 영화가 천만이 넘어야 하거늘... 천만영화라는 것과 영화의 수준은 별개인가 봅니다.\n",
      "한국인인데 미국 국뽕이 차오르다니\n",
      "톰 크루즈와 동시대를 살고 있고 그가 나온 작품을 여전히 영화관에서 즐길 수 있다는 게 너무 감사하고 또 감사하다.\n",
      "1. 가슴이 웅장해진다. 말이 안나온다.2. 이게 진짜 영화다.3. 팬티 2장이 아니라 기저귀 차고 가야됨4. 일반 영화랑은 급이 다름 5. 밥 이재용 닮음\n",
      "내용은  뻔한데 단점을 씹어먹을정도로 전투연출이 기가막힘...\n",
      "영화 보는 와중에 울컥울컥한다. 이런 영화를 볼수 있음에 감독, 배우들에게 감사\n",
      "톰형님 코로나 상황에서 2년 넘게 개봉연기되면서도 끝까지 OTT선공개 거부해줘서 고맙습니다. 이걸 핸드폰으로 봤다고 생각하면 상상만 해도 어휴...\n",
      "중력가속도 받으면 다른 배우들은 더 못생겨지는데 톰형은 주름이 펴지면서 더 멋있어짐오토바이 탈 때는 진자 아직도 1편의 그 매버릭 같아 보이더라\n",
      "할리우드 영화사들이여, 계속 돈 벌고  싶은가? 그렇다면 생명 공학에 이빠이 투자해서 늦기 전에 톰 크루즈 복제 인간을 만들도록.\n",
      "나중에 폰으로 보고 \"별론데?\" 하지 말고 무조건 극장에서 봐라.\n",
      "영화관에 오는 관객을 위해 만든 영화라고 본다거지같은 PC 덕지덕지 붙이면서관객을 가르치려하는 영화들이 계속 쏟아져나오다가드디어 극장에서 봐야하는 재미있는 영화가 나왔다어려울거없다우리가 해야할건 그저 자리에 앉아 화...\n",
      "1편에서 봤던 인트로씬 이함장면과 danger zone 브금의 강렬한 인상의 감성을 2편에서 그대로 재현해서 시작부터 가슴이 너무 뛰었습니다. 올드팬들조차 충분히 전율시킬만한 그런 수작이네요.. OTT가 난무하는 요...\n",
      "시사회로 봤습니다. 주말에 2회차 바로 예약 해 놨습니다. 평점 처음 남겨봅니다. 영화관에서 안보면 평생 후회 할 영화..\n",
      "탑건1편 꼭 보고 가세요.보는 중간중간 눈물이 나는데 참느라 힘들었습니다.\n",
      "존잼. 남자들의 가슴에 불을 지피는 영화\n",
      "제대로 만든 속편의 모범 사례.  꼭 극장에서 보시길\n",
      "미친 개존잼 한국인인데 왜 미국 해군의 국뽕이 느껴지냐고\n",
      "CG로 점철되었던 디지털 시대에 모처럼 리얼이 주는 아날로그의 감동을 가져왔다. 영화적인 모든 것들이 과하지 않아 밸런스가 좋고, 항공액션씬은 역대 최고이며, 탐 크루즈는 여전히 최고다.\n",
      "근래 본 영화중 최고 톰형한테 감사하다\n",
      "후속작이 나오기엔 너무 늦지 않았나 했던 걱정을 마하 10의 속도로 날려버린다.\n",
      "남자들 다울고있음말도안되는 영화\n",
      "초반 비지엠부터 감동.\n",
      "생각하지마 최고니까.\n",
      "이건 그냥 봐야됨\n",
      "씨네마 역사상 지금까지 나온 모든 블록버스터 영화들 중에서 정석적인 방법으로 가장 잘 만든 블록버스터 영화라고 단언한다.영화관을 나오고, 앞으로 이 이상으로 블록버스터 영화를 만들 수 있을까 하는 의문이 생겼다.끝판...\n",
      "과거 명작의 속편들은 이렇게 만들어주세요... 제발\n",
      "이게 옳게된 액션영화지.. 이거지.. 잘만든 cg도 눈호강은 되지만 이렇게 생생한 액션은 역시 대체재가 없다 배우들을 전투기에 직접 태우다니 미쳤나 진짜 미친 액션이 나왔다 심지어 잔인한 장면도 야한 장면도 없어 불...\n",
      "극장 나오면서 또 다시 자리 결제하는 내 모습을 보았다\n",
      "진짜 액션으로 가슴 뜨거워지게 하는건 이 형이 최고다.\n",
      "초6 아들과 탑건을 같이 보게  될줄은 몰랐습니다.어벤져스 세대인 아들은 탑건이 어땠을 지도 궁금했구요.식상할 줄 알았지만 시작부터 끝까지 행복하게 관람했습니다. 무엇보다도 초6 아들이 아주 재미 있었다고 합니다.오...\n",
      "그냥 무조건 보세요 생각하지 마세요\n",
      "크루즈형 같이 늙어가줘서 고마워 이번영화는 진짜 최고야 ㅠㅠ\n",
      "이정도면 톰 크루즈가 극장으로 오라고 협박하는 수준.\n",
      "제발 이 영화를 꼭 봐주세요. 부탁합니다. 제발 봐주세요. 제발요. ott에서 보고 후회하지 마시고 제발 영화관가서 보세요. 저 지금 하루종일 탑건 생각만 하고 있어요. 다같이 탑건 얘기 해야 하니까 꼭 보세요 쩨발...\n",
      "평점 10만점이 부족한 영화입니다.최고의 항공영화호불호 없이 볼 수 있는 영화입니다.재미없이 본다는게 이상한 영화입니다.\n",
      "평점 달러 옴. 영화관이 사라질 수 없는 이유. 2만 3천원 내고 4dx로 봐도 안 아까움. IMAX는 차선일 뿐인 영화.\n",
      "무조건 극장에서 봐야하는 영화에요!\n",
      "극장이 존재해야 하는 이유. CG로 범벅된 영화보다 클래식하면서도 카타르시스를 충분히 느낄 수 있는 영화\n",
      "감동 그자체입니다. 톰 선생님 오래 오래 건강하세요\n",
      "오프닝 음악 듣는순간 전율,,,\n",
      "슬퍼서가 아니라 벅차올라서 눈물이 나는 영화가 얼마만인가\n",
      "톰형이 이갈고 만든느낌이예요 정말 너무 재미있었습니다!!\n",
      "앞으로 이런 영화를 볼 수 없다는 사실이 슬플 뿐입니다\n",
      "와.. 영화관에서 안봤으면 후회할뻔.. 진짜 개재밌다\n",
      "영화관에서 꼭 봐야됨\n",
      "진심으로 죤나 멋있어서 울었다....\n",
      "방금 봤는데 또 보고싶다..\n",
      "천만영화 줄 서봅니다.\n",
      "더할것 하나 없고 뺄 것 도 하나 없는 완벽한 후속작.정말 이렇게 모든면에서 완벽한 액션영화를 감상한게 얼마만인지...가벼운 팝콘영화 생각하고 갔다가 진짜 뒤통수 오지게 맞고 나옴. 진짜 너무너무 잘 만들었다.\n",
      "톰크루즈 는 위대하다.\n",
      "액션 영화 보고 눈물 흘릴 뻔한 적은 처음이다 정말 재밌다.\n",
      "미친영화다 ㅠㅜ 전편 가물가물한 사람들은 꼭 보고가길. 오프닝 부터 초반은 전작 오마주 서비스로 팬들에게 감동폭탄 퍼붓고 스토리는 전편과 연결이 자연스러우며 공중비행과 전투씬은 숨쉴 틈을 안주네. 구스와 함께하는 고...\n",
      "관객이 무엇을 원하는지 알고 제대로 만든 영화입니다. 구질구질한 감독의 숨은 의도나 갈아넣은 영혼 따위 파악할 필요도 없습니다. 그냥 명작입니다.\n",
      "영화관의 존재를 제대로 알린 영화!\n",
      "이게 영화고 이게 속편이지\n",
      "1편보다 나은 2편은 없다는 규칙을 깨버린 TOPGUN.별 10개도 부족하다.\n",
      "진짜 오지는데 생각보다 흥행을 못한ㄷㅏ..제바ㄹ 영화관에서 상영해줄때 보세요..ㅠㅠㅠ\n",
      "왠만해서 평점안다는데... 이건영화의 한계를 뛰어넘었음\n",
      "<탑건>이 고전이된 영화라면 <탑건: 매버릭>은 새로운 고전이 될 영화다.\n",
      "전투기 기동만으로 표값한다. 인위적인지 않고정말 멋짐\n",
      "영화를 이렇게 \"재밌게\" 보고 나온게 얼마만인지.. 감동 그잡채..\n",
      "진짜 재밌게 봄 믿고보는 톰 형 , 마녀2 의 스트레스를 날려버림 마녀2 보지마세요\n",
      "가능하다면 큰 화면으로 봐요 부탁 아니에요\n",
      "전작수준으로 생각하고 보았는데, 상상 이상의 영화였습니다. 역대급!\n",
      "국산이 외산을 따라가지 못한다는걸 또 한번 깨닫게 해준 영화..\n",
      "1보고 보면 더 빠져듭니다\n",
      "36년의 감동이 36배가 되어 돌아왔다\n",
      "22년 최고의 영화이자 왜 아직 극장이 필요한지 보여주는 영화. 영상미, 음향 모두 압도적이고, 스토리도 심플하지만 군더더기 없이 깔끔합니다. 전작 내용 알고 가면 등장인물들의 감정선에 더 깊이 몰입할수 있습니다. ...\n",
      "좀전에 4dx로 보고왔습니다. 4dx에 최적화된 영화입니다. 되도록 꼭 4dx로 보세요!!! 개인적으로 본 영화중 탑3안에 들정도로 최고였음\n",
      "탑건 세대라면 꼭 보세요.가슴이 미쳐날뜁니다.\n",
      "재미있게 관람했습니다\n",
      "PC랑 중꿔자본 없는거에서 만점\n",
      "이거 보려고 찐으로 36년 기다린 사람도 후회없게 만드는 영화\n",
      "분명 액션영화인데 영화가 끝나면 마음 한구석이 왠지모르게 아려온다 아주 오래된 친구를 잠시 다시 만났다가 바로 다시 기약없는 이별을 하고 나오는 감정이랄까..\n"
     ]
    }
   ],
   "source": [
    "# 문자열 포매팅을 활용한 방법\n",
    "for pageNo in range(1,11) :\n",
    "    \n",
    "    # url 페이지의 번호가 1~10까지 바뀌고 있음\n",
    "    url = f'https://movie.naver.com/movie/bi/mi/pointWriteFormList.naver?code=81888&type=after&isActualPointWriteExecute=false&isMileageSubscriptionAlready=false&isMileageSubscriptionReject=false&page={pageNo}'\n",
    "    \n",
    "    # 매번 바뀔때마다 새로운 페이지를 요청/응답 받아줌\n",
    "    res = req.get(url)\n",
    "    \n",
    "    # 매번 바뀔때마다 bs객체화 진행\n",
    "    soup = bs(res.text, 'lxml')\n",
    "    \n",
    "    # 요소 정보 선택해오기\n",
    "    reple = soup.select('div.score_reple > p > span')\n",
    "    \n",
    "    # 리뷰 데이터 가져오기 (관람객 제거ver)\n",
    "    for i in range(len(reple)) :\n",
    "        if i % 2 == 1 :\n",
    "            print(reple[i].text.strip())"
   ]
  },
  {
   "cell_type": "code",
   "execution_count": 9,
   "metadata": {
    "ExecuteTime": {
     "end_time": "2023-03-27T03:48:56.268193Z",
     "start_time": "2023-03-27T03:48:15.295744Z"
    }
   },
   "outputs": [
    {
     "name": "stdout",
     "output_type": "stream",
     "text": [
      "[현재 페이지 번호 : 1]\n",
      "평점 잘 안주는데 만점 줄려고 왔다\n",
      "영화관이 필요한 이유\n",
      "중국 애들은 불쌍타 나라 잘못 만나서 이런 영화를 극장에서 못보다니 ㅋㅋ\n",
      "감동의눈물 나올정도입니다. 평점10점급임.  내가 전투기 탄 기분이였음\n",
      "이 시대의 마지막 액션스타, \"톰 크루즈\"\n",
      "탑건1(1986년)의 36년만의 나온 속편. 매우 만족 스러웠고 매우 재밌었다 무조건 특별관에서 봐야되는 영화 2022년 개봉작 영화중에서 범죄도시2 이후 2번째로 엄청 좋았던 영화 톰 크루즈 미모는 여전히 잘생겼다...\n",
      "다른 말이 필요한가 레.전.드\n",
      "개쩐다 말이 필요없음 직접확인\n",
      "감동까지 겸비한 최고의 블록버스터\n",
      "지린다... 지려 할말이 없게 만듬..\n",
      "[현재 페이지 번호 : 2]\n",
      "영화관에서 탑건 보고 집에 가려고 차 핸들 잡는데 F-18 탄것도 아니면서 쓸데없이 비장해짐\n",
      "돌아가신 아버지가 탑건1을 좋아하셨는데 살아계시다면 꼭 함께 아이맥스관에서 관람하고 싶었어요 아버지와 함께 보는 기분으로 봤어요\n",
      "영화 보고 이렇게 기분 좋게 나왔던거 너무 오랜만인것같다 ㅋㅋㅋ\n",
      "CG시대에 실제 항공기 비행촬영을 한, OTT시대에도 왜 영화관이어야 하는지 새삼 알려준, 헐리우드 영화 황금기 그 시절 극장에서 박수치고 가슴뛰며 보던 그 흥분을 다시 느끼게 해준 영화! 오프닝 탑건 ANTHEM과...\n",
      "범죄도시2 재미있죠. 그런데 말입니다, 이거 한번 보고 오시죠.비행기 액션 영화인데 가슴이 웅장해지고 눈물 나올뻔함. 아니 진심 울컥했다니까요. 주변에서 눈물 삼키는 소리인지, 에어컨 때문에 추워서 코 훌쩍이는건진 ...\n",
      "기체 틀때 파일럿의 몸도 제껴 지니 나까지 심장이  터질듯했다. 미친 명화  탄생  10점 밖에  못 줘서  미안하다.탐형님 만수무강하시길\n",
      "마하10 별점10점!!\n",
      "매버릭은 낭만 그자체다 우리는 탐크루즈 시대의 살고있다\n",
      "미친영화 진심 미친영화특히 마지막 15분은 진짜 영화의 대비를 장식하는 역대 최고의 전투기씬. 톰 크루즈 커리어에 영원히 남을 올해 최고의 대작영화는 진짜 이렇게 만들어야 한다최고의 대작!!3번 보고 또 볼 예정\n",
      "3~40년을 건너뛰어 돌아온 것 만으로도 열광할 이유는 충분하다... 찬사를 보낸다.\n",
      "[현재 페이지 번호 : 3]\n",
      "올해 본 영화 중에 가장 최고의 영화다... 기립박수 치고 싶은 심정\n",
      "역시 실망시키지 않는 천조국 영화 완전 미국 그 자체인 영화 미국인이 보면 국뽕이 한계치까지 차오르는 영화 미국이 자랑스러울 영화 진짜 미국의 군사력 전투력 파일럿 세계최고 영화의 영상미 연출 스토리 연기 모든게 완...\n",
      "평점 잘안주는데 만점입니다\n",
      "어 그냥 조용히 하고 그냥 보고와 후회는 절대 안해. 이런게 예술이지\n",
      "이 영화를 관람하는 데에 있어서 현금 10만원을 내라고 해도 10만원이 전혀 아깝지 않은 영화이다 역사에 길이 남을 영화...대박이라는 말 밖에 안나온다\n",
      "개봉일 용아맥 20시40분꺼 영화끝나고 좌립박수나옴 ㅋ\n",
      "이렇게 모든 부분에서 완벽한 영화가 천만이 넘어야 하거늘... 천만영화라는 것과 영화의 수준은 별개인가 봅니다.\n",
      "한국인인데 미국 국뽕이 차오르다니\n",
      "톰 크루즈와 동시대를 살고 있고 그가 나온 작품을 여전히 영화관에서 즐길 수 있다는 게 너무 감사하고 또 감사하다.\n",
      "1. 가슴이 웅장해진다. 말이 안나온다.2. 이게 진짜 영화다.3. 팬티 2장이 아니라 기저귀 차고 가야됨4. 일반 영화랑은 급이 다름 5. 밥 이재용 닮음\n",
      "[현재 페이지 번호 : 4]\n",
      "내용은  뻔한데 단점을 씹어먹을정도로 전투연출이 기가막힘...\n",
      "영화 보는 와중에 울컥울컥한다. 이런 영화를 볼수 있음에 감독, 배우들에게 감사\n",
      "톰형님 코로나 상황에서 2년 넘게 개봉연기되면서도 끝까지 OTT선공개 거부해줘서 고맙습니다. 이걸 핸드폰으로 봤다고 생각하면 상상만 해도 어휴...\n",
      "중력가속도 받으면 다른 배우들은 더 못생겨지는데 톰형은 주름이 펴지면서 더 멋있어짐오토바이 탈 때는 진자 아직도 1편의 그 매버릭 같아 보이더라\n",
      "할리우드 영화사들이여, 계속 돈 벌고  싶은가? 그렇다면 생명 공학에 이빠이 투자해서 늦기 전에 톰 크루즈 복제 인간을 만들도록.\n",
      "나중에 폰으로 보고 \"별론데?\" 하지 말고 무조건 극장에서 봐라.\n",
      "영화관에 오는 관객을 위해 만든 영화라고 본다거지같은 PC 덕지덕지 붙이면서관객을 가르치려하는 영화들이 계속 쏟아져나오다가드디어 극장에서 봐야하는 재미있는 영화가 나왔다어려울거없다우리가 해야할건 그저 자리에 앉아 화...\n",
      "1편에서 봤던 인트로씬 이함장면과 danger zone 브금의 강렬한 인상의 감성을 2편에서 그대로 재현해서 시작부터 가슴이 너무 뛰었습니다. 올드팬들조차 충분히 전율시킬만한 그런 수작이네요.. OTT가 난무하는 요...\n",
      "시사회로 봤습니다. 주말에 2회차 바로 예약 해 놨습니다. 평점 처음 남겨봅니다. 영화관에서 안보면 평생 후회 할 영화..\n",
      "탑건1편 꼭 보고 가세요.보는 중간중간 눈물이 나는데 참느라 힘들었습니다.\n",
      "[현재 페이지 번호 : 5]\n",
      "존잼. 남자들의 가슴에 불을 지피는 영화\n",
      "제대로 만든 속편의 모범 사례.  꼭 극장에서 보시길\n",
      "미친 개존잼 한국인인데 왜 미국 해군의 국뽕이 느껴지냐고\n",
      "CG로 점철되었던 디지털 시대에 모처럼 리얼이 주는 아날로그의 감동을 가져왔다. 영화적인 모든 것들이 과하지 않아 밸런스가 좋고, 항공액션씬은 역대 최고이며, 탐 크루즈는 여전히 최고다.\n",
      "근래 본 영화중 최고 톰형한테 감사하다\n",
      "후속작이 나오기엔 너무 늦지 않았나 했던 걱정을 마하 10의 속도로 날려버린다.\n",
      "남자들 다울고있음말도안되는 영화\n",
      "초반 비지엠부터 감동.\n",
      "생각하지마 최고니까.\n",
      "이건 그냥 봐야됨\n",
      "[현재 페이지 번호 : 6]\n",
      "씨네마 역사상 지금까지 나온 모든 블록버스터 영화들 중에서 정석적인 방법으로 가장 잘 만든 블록버스터 영화라고 단언한다.영화관을 나오고, 앞으로 이 이상으로 블록버스터 영화를 만들 수 있을까 하는 의문이 생겼다.끝판...\n",
      "과거 명작의 속편들은 이렇게 만들어주세요... 제발\n",
      "이게 옳게된 액션영화지.. 이거지.. 잘만든 cg도 눈호강은 되지만 이렇게 생생한 액션은 역시 대체재가 없다 배우들을 전투기에 직접 태우다니 미쳤나 진짜 미친 액션이 나왔다 심지어 잔인한 장면도 야한 장면도 없어 불...\n",
      "극장 나오면서 또 다시 자리 결제하는 내 모습을 보았다\n",
      "진짜 액션으로 가슴 뜨거워지게 하는건 이 형이 최고다.\n",
      "초6 아들과 탑건을 같이 보게  될줄은 몰랐습니다.어벤져스 세대인 아들은 탑건이 어땠을 지도 궁금했구요.식상할 줄 알았지만 시작부터 끝까지 행복하게 관람했습니다. 무엇보다도 초6 아들이 아주 재미 있었다고 합니다.오...\n",
      "그냥 무조건 보세요 생각하지 마세요\n",
      "크루즈형 같이 늙어가줘서 고마워 이번영화는 진짜 최고야 ㅠㅠ\n",
      "이정도면 톰 크루즈가 극장으로 오라고 협박하는 수준.\n",
      "제발 이 영화를 꼭 봐주세요. 부탁합니다. 제발 봐주세요. 제발요. ott에서 보고 후회하지 마시고 제발 영화관가서 보세요. 저 지금 하루종일 탑건 생각만 하고 있어요. 다같이 탑건 얘기 해야 하니까 꼭 보세요 쩨발...\n",
      "[현재 페이지 번호 : 7]\n",
      "평점 10만점이 부족한 영화입니다.최고의 항공영화호불호 없이 볼 수 있는 영화입니다.재미없이 본다는게 이상한 영화입니다.\n",
      "평점 달러 옴. 영화관이 사라질 수 없는 이유. 2만 3천원 내고 4dx로 봐도 안 아까움. IMAX는 차선일 뿐인 영화.\n",
      "무조건 극장에서 봐야하는 영화에요!\n",
      "극장이 존재해야 하는 이유. CG로 범벅된 영화보다 클래식하면서도 카타르시스를 충분히 느낄 수 있는 영화\n",
      "감동 그자체입니다. 톰 선생님 오래 오래 건강하세요\n",
      "오프닝 음악 듣는순간 전율,,,\n",
      "슬퍼서가 아니라 벅차올라서 눈물이 나는 영화가 얼마만인가\n",
      "톰형이 이갈고 만든느낌이예요 정말 너무 재미있었습니다!!\n",
      "앞으로 이런 영화를 볼 수 없다는 사실이 슬플 뿐입니다\n",
      "와.. 영화관에서 안봤으면 후회할뻔.. 진짜 개재밌다\n",
      "[현재 페이지 번호 : 8]\n",
      "영화관에서 꼭 봐야됨\n",
      "진심으로 죤나 멋있어서 울었다....\n",
      "방금 봤는데 또 보고싶다..\n",
      "천만영화 줄 서봅니다.\n",
      "더할것 하나 없고 뺄 것 도 하나 없는 완벽한 후속작.정말 이렇게 모든면에서 완벽한 액션영화를 감상한게 얼마만인지...가벼운 팝콘영화 생각하고 갔다가 진짜 뒤통수 오지게 맞고 나옴. 진짜 너무너무 잘 만들었다.\n",
      "톰크루즈 는 위대하다.\n",
      "액션 영화 보고 눈물 흘릴 뻔한 적은 처음이다 정말 재밌다.\n",
      "미친영화다 ㅠㅜ 전편 가물가물한 사람들은 꼭 보고가길. 오프닝 부터 초반은 전작 오마주 서비스로 팬들에게 감동폭탄 퍼붓고 스토리는 전편과 연결이 자연스러우며 공중비행과 전투씬은 숨쉴 틈을 안주네. 구스와 함께하는 고...\n",
      "관객이 무엇을 원하는지 알고 제대로 만든 영화입니다. 구질구질한 감독의 숨은 의도나 갈아넣은 영혼 따위 파악할 필요도 없습니다. 그냥 명작입니다.\n",
      "영화관의 존재를 제대로 알린 영화!\n",
      "[현재 페이지 번호 : 9]\n",
      "이게 영화고 이게 속편이지\n",
      "1편보다 나은 2편은 없다는 규칙을 깨버린 TOPGUN.별 10개도 부족하다.\n",
      "진짜 오지는데 생각보다 흥행을 못한ㄷㅏ..제바ㄹ 영화관에서 상영해줄때 보세요..ㅠㅠㅠ\n",
      "왠만해서 평점안다는데... 이건영화의 한계를 뛰어넘었음\n",
      "<탑건>이 고전이된 영화라면 <탑건: 매버릭>은 새로운 고전이 될 영화다.\n",
      "전투기 기동만으로 표값한다. 인위적인지 않고정말 멋짐\n",
      "영화를 이렇게 \"재밌게\" 보고 나온게 얼마만인지.. 감동 그잡채..\n",
      "진짜 재밌게 봄 믿고보는 톰 형 , 마녀2 의 스트레스를 날려버림 마녀2 보지마세요\n",
      "가능하다면 큰 화면으로 봐요 부탁 아니에요\n",
      "전작수준으로 생각하고 보았는데, 상상 이상의 영화였습니다. 역대급!\n",
      "[현재 페이지 번호 : 10]\n",
      "국산이 외산을 따라가지 못한다는걸 또 한번 깨닫게 해준 영화..\n",
      "1보고 보면 더 빠져듭니다\n",
      "36년의 감동이 36배가 되어 돌아왔다\n",
      "22년 최고의 영화이자 왜 아직 극장이 필요한지 보여주는 영화. 영상미, 음향 모두 압도적이고, 스토리도 심플하지만 군더더기 없이 깔끔합니다. 전작 내용 알고 가면 등장인물들의 감정선에 더 깊이 몰입할수 있습니다. ...\n",
      "좀전에 4dx로 보고왔습니다. 4dx에 최적화된 영화입니다. 되도록 꼭 4dx로 보세요!!! 개인적으로 본 영화중 탑3안에 들정도로 최고였음\n",
      "탑건 세대라면 꼭 보세요.가슴이 미쳐날뜁니다.\n",
      "재미있게 관람했습니다\n",
      "PC랑 중꿔자본 없는거에서 만점\n",
      "이거 보려고 찐으로 36년 기다린 사람도 후회없게 만드는 영화\n",
      "분명 액션영화인데 영화가 끝나면 마음 한구석이 왠지모르게 아려온다 아주 오래된 친구를 잠시 다시 만났다가 바로 다시 기약없는 이별을 하고 나오는 감정이랄까..\n",
      "수집완료 !\n"
     ]
    }
   ],
   "source": [
    "# get() 함수의 params 속성 활용\n",
    "for pageNo in range(1,11) :\n",
    "    \n",
    "    print(f'[현재 페이지 번호 : {pageNo}]')\n",
    "    \n",
    "    # url 페이지의 파라미터가 1~10까지 바뀌고 있음\n",
    "    url = 'https://movie.naver.com/movie/bi/mi/pointWriteFormList.naver?code=81888&type=after&isActualPointWriteExecute=false&isMileageSubscriptionAlready=false&isMileageSubscriptionReject=false'\n",
    "    \n",
    "    # 매번 바뀔때마다 새로운 페이지를 요청/응답 받아줌\n",
    "    # page = ?\n",
    "    # params : url주소 맨 뒤에 추가적으로 값을 넘겨줄 때 사용하는 속성(딕셔너리)\n",
    "    # 'key' = value\n",
    "    res = req.get(url, params = {'page': pageNo})\n",
    "    \n",
    "    # 매번 바뀔때마다 bs객체화 진행\n",
    "    soup = bs(res.text, 'lxml')\n",
    "    \n",
    "    # 요소 정보 선택해오기\n",
    "    reple = soup.select('div.score_reple > p > span')\n",
    "    \n",
    "    # 리뷰 데이터 가져오기 (관람객 제거ver)\n",
    "    for i in range(len(reple)) :\n",
    "        if i % 2 == 1 :\n",
    "            print(reple[i].text.strip())\n",
    "            \n",
    "    # 리뷰페이지 요청에 대한 딜레이(지연) 설정 ★\n",
    "    # 네트워크 환경 속도에 따라 딜레이 시간을 잘 조욜해주어야 한다 !!\n",
    "    time.sleep(1)\n",
    "    \n",
    "print('수집완료 !')"
   ]
  },
  {
   "cell_type": "markdown",
   "metadata": {},
   "source": [
    "#### 이렇게 데이터를 수집한 다음 긍정/부정 리뷰데이터의 개수\n",
    "#### 특정 문구의 등장 빈도는 어느정도인지 등 데이터 분석할 수 이는 과정으로 넘어갈 수 있다.\n",
    "\n",
    "- 분석/시각화 등을 진행하기 위해 덱스트 데이터를 저장"
   ]
  },
  {
   "cell_type": "markdown",
   "metadata": {},
   "source": [
    "### 파일 읽고 쓰기"
   ]
  },
  {
   "cell_type": "code",
   "execution_count": 10,
   "metadata": {
    "ExecuteTime": {
     "end_time": "2023-03-27T03:48:56.283149Z",
     "start_time": "2023-03-27T03:48:56.271181Z"
    }
   },
   "outputs": [],
   "source": [
    "# open() : 파일을 읽기/저장 하는 함수\n",
    "# f = open('파일경로/파일명.확장자', '권한')\n",
    "# 권한 : r, w (read, write)\n",
    "\n",
    "# 파일 객체 생성 (쓰기)\n",
    "f = open('test.txt', 'w')\n",
    "\n",
    "# 쓰기\n",
    "# write(\"작성 할 내용\")\n",
    "f.write('파일 저장 성공 !')\n",
    "\n",
    "# 닫기(중요)\n",
    "# 파일을 열었다면 닫아주자 \n",
    "f.close()"
   ]
  },
  {
   "cell_type": "code",
   "execution_count": 11,
   "metadata": {
    "ExecuteTime": {
     "end_time": "2023-03-27T03:48:56.299110Z",
     "start_time": "2023-03-27T03:48:56.284146Z"
    }
   },
   "outputs": [
    {
     "name": "stdout",
     "output_type": "stream",
     "text": [
      "파일 저장 성공 !\n"
     ]
    }
   ],
   "source": [
    "# 파일 객체 생성 (읽기)\n",
    "f = open('test.txt', 'r')\n",
    "\n",
    "# 읽기\n",
    "# readline()\n",
    "data = f.readline()\n",
    "\n",
    "# 닫기\n",
    "f.close()\n",
    "\n",
    "print(data)"
   ]
  },
  {
   "cell_type": "code",
   "execution_count": 12,
   "metadata": {
    "ExecuteTime": {
     "end_time": "2023-03-27T03:48:56.315063Z",
     "start_time": "2023-03-27T03:48:56.300105Z"
    }
   },
   "outputs": [],
   "source": [
    "# 리뷰 데이터를 저장 할 파일 객체 생성\n",
    "f = open('영화리뷰.txt', 'w')\n",
    "\n",
    "for i in range(len(reple)) :\n",
    "    if i % 2 == 1 :\n",
    "        f.write(reple[i].text.strip())\n",
    "\n",
    "# 리뷰 데이터를 모두 저정한 후 파일 객체 종료(중요)\n",
    "f.close()"
   ]
  },
  {
   "cell_type": "code",
   "execution_count": 13,
   "metadata": {
    "ExecuteTime": {
     "end_time": "2023-03-27T03:49:07.378569Z",
     "start_time": "2023-03-27T03:48:56.316061Z"
    }
   },
   "outputs": [
    {
     "name": "stdout",
     "output_type": "stream",
     "text": [
      "[현재 페이지 번호 : 1]\n",
      "[현재 페이지 번호 : 2]\n",
      "[현재 페이지 번호 : 3]\n",
      "[현재 페이지 번호 : 4]\n",
      "[현재 페이지 번호 : 5]\n",
      "[현재 페이지 번호 : 6]\n",
      "[현재 페이지 번호 : 7]\n",
      "[현재 페이지 번호 : 8]\n",
      "[현재 페이지 번호 : 9]\n",
      "[현재 페이지 번호 : 10]\n",
      "수집완료 !\n"
     ]
    }
   ],
   "source": [
    "f = open('영화리뷰.txt', 'w')\n",
    "\n",
    "for pageNo in range(1,11) :\n",
    "    \n",
    "    print(f'[현재 페이지 번호 : {pageNo}]')\n",
    "    url = 'https://movie.naver.com/movie/bi/mi/pointWriteFormList.naver?code=81888&type=after&isActualPointWriteExecute=false&isMileageSubscriptionAlready=false&isMileageSubscriptionReject=false'\n",
    "    res = req.get(url, params = {'page': pageNo})\n",
    "    soup = bs(res.text, 'lxml')\n",
    "    reple = soup.select('div.score_reple > p > span')\n",
    "    for i in range(len(reple)) :\n",
    "        if i % 2 == 1 :\n",
    "            f.write(reple[i].text.strip())\n",
    "    time.sleep(1)\n",
    "    \n",
    "print('수집완료 !')\n",
    "f.close()"
   ]
  },
  {
   "cell_type": "code",
   "execution_count": 14,
   "metadata": {
    "ExecuteTime": {
     "end_time": "2023-03-27T03:49:07.394527Z",
     "start_time": "2023-03-27T03:49:07.379563Z"
    }
   },
   "outputs": [],
   "source": [
    "# 네이버 영화 리뷰 수집\n",
    "\n",
    "# 네이버 영화 리뷰 데이터를 수집/파일로 저장 하는 함수 정의\n",
    "\n",
    "def naver_reple(save_path, page) :\n",
    "    f = open(save_path, 'w')\n",
    "\n",
    "    for pageNo in range(1, page + 1) :\n",
    "    \n",
    "        url = 'https://movie.naver.com/movie/bi/mi/pointWriteFormList.naver?code=81888&type=after&isActualPointWriteExecute=false&isMileageSubscriptionAlready=false&isMileageSubscriptionReject=false'\n",
    "        res = req.get(url, params = {'page': pageNo})\n",
    "        soup = bs(res.text, 'lxml')\n",
    "        reple = soup.select('div.score_reple > p > span')\n",
    "        for i in range(len(reple)) :\n",
    "            if i % 2 == 1 :\n",
    "                f.write(reple[i].text.strip())\n",
    "        time.sleep(1)\n",
    "    \n",
    "    print('수집완료 !')\n",
    "    f.close()"
   ]
  },
  {
   "cell_type": "code",
   "execution_count": 15,
   "metadata": {
    "ExecuteTime": {
     "end_time": "2023-03-27T03:49:07.426573Z",
     "start_time": "2023-03-27T03:49:07.395520Z"
    }
   },
   "outputs": [],
   "source": [
    "# 함수 사용해서 100개 페이지 수집/저장 !\n",
    "\n",
    "# naver_reple('영화리뷰 100페이지.txt', 100)"
   ]
  },
  {
   "cell_type": "code",
   "execution_count": 16,
   "metadata": {
    "ExecuteTime": {
     "end_time": "2023-03-27T03:51:15.418525Z",
     "start_time": "2023-03-27T03:51:14.220908Z"
    },
    "collapsed": true
   },
   "outputs": [
    {
     "name": "stdout",
     "output_type": "stream",
     "text": [
      "Package                           Version\n",
      "--------------------------------- --------------------\n",
      "alabaster                         0.7.12\n",
      "anaconda-client                   1.11.0\n",
      "anaconda-navigator                2.3.1\n",
      "anaconda-project                  0.11.1\n",
      "anyio                             3.5.0\n",
      "appdirs                           1.4.4\n",
      "argon2-cffi                       21.3.0\n",
      "argon2-cffi-bindings              21.2.0\n",
      "arrow                             1.2.2\n",
      "astroid                           2.11.7\n",
      "astropy                           5.1\n",
      "atomicwrites                      1.4.0\n",
      "attrs                             21.4.0\n",
      "Automat                           20.2.0\n",
      "autopep8                          1.6.0\n",
      "Babel                             2.9.1\n",
      "backcall                          0.2.0\n",
      "backports.functools-lru-cache     1.6.4\n",
      "backports.tempfile                1.0\n",
      "backports.weakref                 1.0.post1\n",
      "bcrypt                            3.2.0\n",
      "beautifulsoup4                    4.11.1\n",
      "binaryornot                       0.4.4\n",
      "bitarray                          2.5.1\n",
      "bkcharts                          0.2\n",
      "black                             22.6.0\n",
      "bleach                            4.1.0\n",
      "bokeh                             2.4.3\n",
      "boto3                             1.24.28\n",
      "botocore                          1.27.28\n",
      "Bottleneck                        1.3.5\n",
      "brotlipy                          0.7.0\n",
      "certifi                           2022.9.14\n",
      "cffi                              1.15.1\n",
      "chardet                           4.0.0\n",
      "charset-normalizer                2.0.4\n",
      "click                             8.0.4\n",
      "cloudpickle                       2.0.0\n",
      "clyent                            1.2.2\n",
      "colorama                          0.4.5\n",
      "colorcet                          3.0.0\n",
      "comtypes                          1.1.10\n",
      "conda                             22.9.0\n",
      "conda-build                       3.22.0\n",
      "conda-content-trust               0.1.3\n",
      "conda-pack                        0.6.0\n",
      "conda-package-handling            1.9.0\n",
      "conda-repo-cli                    1.0.20\n",
      "conda-token                       0.4.0\n",
      "conda-verify                      3.4.2\n",
      "constantly                        15.1.0\n",
      "cookiecutter                      1.7.3\n",
      "cryptography                      37.0.1\n",
      "cssselect                         1.1.0\n",
      "cycler                            0.11.0\n",
      "Cython                            0.29.32\n",
      "cytoolz                           0.11.0\n",
      "daal4py                           2021.6.0\n",
      "dask                              2022.7.0\n",
      "datashader                        0.14.1\n",
      "datashape                         0.5.4\n",
      "debugpy                           1.5.1\n",
      "decorator                         5.1.1\n",
      "defusedxml                        0.7.1\n",
      "diff-match-patch                  20200713\n",
      "dill                              0.3.4\n",
      "distributed                       2022.7.0\n",
      "docutils                          0.18.1\n",
      "entrypoints                       0.4\n",
      "et-xmlfile                        1.1.0\n",
      "fastjsonschema                    2.16.2\n",
      "filelock                          3.6.0\n",
      "flake8                            4.0.1\n",
      "Flask                             1.1.2\n",
      "fonttools                         4.25.0\n",
      "fsspec                            2022.7.1\n",
      "future                            0.18.2\n",
      "gensim                            4.1.2\n",
      "glob2                             0.7\n",
      "greenlet                          1.1.1\n",
      "h5py                              3.7.0\n",
      "HeapDict                          1.0.1\n",
      "holoviews                         1.15.0\n",
      "hvplot                            0.8.0\n",
      "hyperlink                         21.0.0\n",
      "idna                              3.3\n",
      "imagecodecs                       2021.8.26\n",
      "imageio                           2.19.3\n",
      "imagesize                         1.4.1\n",
      "importlib-metadata                4.11.3\n",
      "incremental                       21.3.0\n",
      "inflection                        0.5.1\n",
      "iniconfig                         1.1.1\n",
      "intake                            0.6.5\n",
      "intervaltree                      3.1.0\n",
      "ipykernel                         6.15.2\n",
      "ipython                           7.31.1\n",
      "ipython-genutils                  0.2.0\n",
      "ipywidgets                        7.6.5\n",
      "isort                             5.9.3\n",
      "itemadapter                       0.3.0\n",
      "itemloaders                       1.0.4\n",
      "itsdangerous                      2.0.1\n",
      "jdcal                             1.4.1\n",
      "jedi                              0.18.1\n",
      "jellyfish                         0.9.0\n",
      "Jinja2                            2.11.3\n",
      "jinja2-time                       0.2.0\n",
      "jmespath                          0.10.0\n",
      "joblib                            1.1.0\n",
      "json5                             0.9.6\n",
      "jsonschema                        4.16.0\n",
      "jupyter                           1.0.0\n",
      "jupyter_client                    7.3.4\n",
      "jupyter-console                   6.4.3\n",
      "jupyter-contrib-core              0.4.2\n",
      "jupyter-contrib-nbextensions      0.7.0\n",
      "jupyter_core                      4.11.1\n",
      "jupyter-highlight-selected-word   0.2.0\n",
      "jupyter-nbextensions-configurator 0.6.1\n",
      "jupyter-server                    1.18.1\n",
      "jupyterlab                        3.4.4\n",
      "jupyterlab-pygments               0.1.2\n",
      "jupyterlab-server                 2.10.3\n",
      "jupyterlab-widgets                1.0.0\n",
      "keyring                           23.4.0\n",
      "kiwisolver                        1.4.2\n",
      "lazy-object-proxy                 1.6.0\n",
      "libarchive-c                      2.9\n",
      "llvmlite                          0.38.0\n",
      "locket                            1.0.0\n",
      "lxml                              4.9.1\n",
      "lz4                               3.1.3\n",
      "Markdown                          3.3.4\n",
      "MarkupSafe                        2.0.1\n",
      "matplotlib                        3.5.2\n",
      "matplotlib-inline                 0.1.6\n",
      "mccabe                            0.6.1\n",
      "menuinst                          1.4.19\n",
      "mistune                           0.8.4\n",
      "mkl-fft                           1.3.1\n",
      "mkl-random                        1.2.2\n",
      "mkl-service                       2.4.0\n",
      "mock                              4.0.3\n",
      "mpmath                            1.2.1\n",
      "msgpack                           1.0.3\n",
      "multipledispatch                  0.6.0\n",
      "munkres                           1.1.4\n",
      "mypy-extensions                   0.4.3\n",
      "navigator-updater                 0.3.0\n",
      "nbclassic                         0.3.5\n",
      "nbclient                          0.5.13\n",
      "nbconvert                         6.4.4\n",
      "nbformat                          5.5.0\n",
      "nest-asyncio                      1.5.5\n",
      "networkx                          2.8.4\n",
      "nltk                              3.7\n",
      "nose                              1.3.7\n",
      "notebook                          6.4.12\n",
      "numba                             0.55.1\n",
      "numexpr                           2.8.3\n",
      "numpy                             1.21.5\n",
      "numpydoc                          1.4.0\n",
      "olefile                           0.46\n",
      "openpyxl                          3.0.10\n",
      "packaging                         21.3\n",
      "pandas                            1.4.4\n",
      "pandocfilters                     1.5.0\n",
      "panel                             0.13.1\n",
      "param                             1.12.0\n",
      "paramiko                          2.8.1\n",
      "parsel                            1.6.0\n",
      "parso                             0.8.3\n",
      "partd                             1.2.0\n",
      "pathlib                           1.0.1\n",
      "pathspec                          0.9.0\n",
      "patsy                             0.5.2\n",
      "pep8                              1.7.1\n",
      "pexpect                           4.8.0\n",
      "pickleshare                       0.7.5\n",
      "Pillow                            9.2.0\n",
      "pip                               22.2.2\n",
      "pkginfo                           1.8.2\n",
      "platformdirs                      2.5.2\n",
      "plotly                            5.9.0\n",
      "pluggy                            1.0.0\n",
      "poyo                              0.5.0\n",
      "prometheus-client                 0.14.1\n",
      "prompt-toolkit                    3.0.20\n",
      "Protego                           0.1.16\n",
      "psutil                            5.9.0\n",
      "ptyprocess                        0.7.0\n",
      "py                                1.11.0\n",
      "pyasn1                            0.4.8\n",
      "pyasn1-modules                    0.2.8\n",
      "pycodestyle                       2.8.0\n",
      "pycosat                           0.6.3\n",
      "pycparser                         2.21\n",
      "pyct                              0.4.8\n",
      "pycurl                            7.45.1\n",
      "PyDispatcher                      2.0.5\n",
      "pydocstyle                        6.1.1\n",
      "pyerfa                            2.0.0\n",
      "pyflakes                          2.4.0\n",
      "Pygments                          2.11.2\n",
      "PyHamcrest                        2.0.2\n",
      "PyJWT                             2.4.0\n",
      "pylint                            2.14.5\n",
      "pyls-spyder                       0.4.0\n",
      "PyNaCl                            1.5.0\n",
      "pyodbc                            4.0.34\n",
      "pyOpenSSL                         22.0.0\n",
      "pyparsing                         3.0.9\n",
      "pyrsistent                        0.18.0\n",
      "PySocks                           1.7.1\n",
      "pytest                            7.1.2\n",
      "python-dateutil                   2.8.2\n",
      "python-lsp-black                  1.0.0\n",
      "python-lsp-jsonrpc                1.0.0\n",
      "python-lsp-server                 1.3.3\n",
      "python-slugify                    5.0.2\n",
      "python-snappy                     0.6.0\n",
      "pytz                              2022.1\n",
      "pyviz-comms                       2.0.2\n",
      "PyWavelets                        1.3.0\n",
      "pywin32                           302\n",
      "pywin32-ctypes                    0.2.0\n",
      "pywinpty                          2.0.2\n",
      "PyYAML                            6.0\n",
      "pyzmq                             23.2.0\n",
      "QDarkStyle                        3.0.2\n",
      "qstylizer                         0.1.10\n",
      "QtAwesome                         1.0.3\n",
      "qtconsole                         5.2.2\n",
      "QtPy                              2.2.0\n",
      "queuelib                          1.5.0\n",
      "regex                             2022.7.9\n",
      "requests                          2.28.1\n",
      "requests-file                     1.5.1\n",
      "rope                              0.22.0\n",
      "Rtree                             0.9.7\n",
      "ruamel-yaml-conda                 0.15.100\n",
      "s3transfer                        0.6.0\n",
      "scikit-image                      0.19.2\n",
      "scikit-learn                      1.0.2\n",
      "scikit-learn-intelex              2021.20221004.171935\n",
      "scipy                             1.9.1\n",
      "Scrapy                            2.6.2\n",
      "seaborn                           0.11.2\n",
      "Send2Trash                        1.8.0\n",
      "service-identity                  18.1.0\n",
      "setuptools                        63.4.1\n",
      "sip                               4.19.13\n",
      "six                               1.16.0\n",
      "smart-open                        5.2.1\n",
      "sniffio                           1.2.0\n",
      "snowballstemmer                   2.2.0\n",
      "sortedcollections                 2.1.0\n",
      "sortedcontainers                  2.4.0\n",
      "soupsieve                         2.3.1\n",
      "Sphinx                            5.0.2\n",
      "sphinxcontrib-applehelp           1.0.2\n",
      "sphinxcontrib-devhelp             1.0.2\n",
      "sphinxcontrib-htmlhelp            2.0.0\n",
      "sphinxcontrib-jsmath              1.0.1\n",
      "sphinxcontrib-qthelp              1.0.3\n",
      "sphinxcontrib-serializinghtml     1.1.5\n",
      "spyder                            5.2.2\n",
      "spyder-kernels                    2.2.1\n",
      "SQLAlchemy                        1.4.39\n",
      "statsmodels                       0.13.2\n",
      "sympy                             1.10.1\n",
      "tables                            3.6.1\n",
      "tabulate                          0.8.10\n",
      "TBB                               0.2\n",
      "tblib                             1.7.0\n",
      "tenacity                          8.0.1\n",
      "terminado                         0.13.1\n",
      "testpath                          0.6.0\n",
      "text-unidecode                    1.3\n",
      "textdistance                      4.2.1\n",
      "threadpoolctl                     2.2.0\n",
      "three-merge                       0.1.1\n",
      "tifffile                          2021.7.2\n",
      "tinycss                           0.4\n",
      "tldextract                        3.2.0\n",
      "toml                              0.10.2\n",
      "tomli                             2.0.1\n",
      "tomlkit                           0.11.1\n",
      "toolz                             0.11.2\n",
      "tornado                           6.1\n",
      "tqdm                              4.64.1\n",
      "traitlets                         5.1.1\n",
      "Twisted                           22.2.0\n",
      "twisted-iocpsupport               1.0.2\n",
      "typing_extensions                 4.3.0\n",
      "ujson                             5.4.0\n",
      "Unidecode                         1.2.0\n",
      "urllib3                           1.26.11\n",
      "w3lib                             1.21.0\n",
      "watchdog                          2.1.6\n",
      "wcwidth                           0.2.5\n",
      "webencodings                      0.5.1\n",
      "websocket-client                  0.58.0\n",
      "Werkzeug                          2.0.3\n",
      "wheel                             0.37.1\n",
      "widgetsnbextension                3.5.2\n",
      "win-inet-pton                     1.1.0\n",
      "win-unicode-console               0.5\n",
      "wincertstore                      0.2\n",
      "wordcloud                         1.8.2.2\n",
      "wrapt                             1.14.1\n",
      "xarray                            0.20.1\n",
      "xlrd                              2.0.1\n",
      "XlsxWriter                        3.0.3\n",
      "xlwings                           0.27.15\n",
      "yapf                              0.31.0\n",
      "zict                              2.1.0\n",
      "zipp                              3.8.0\n",
      "zope.interface                    5.4.0\n"
     ]
    }
   ],
   "source": [
    "# 현재 설치되어 있는 라이브러리 리스트 출력 (목록과 버전 확인 용도)\n",
    "!pip list"
   ]
  },
  {
   "cell_type": "code",
   "execution_count": 17,
   "metadata": {
    "ExecuteTime": {
     "end_time": "2023-03-27T03:49:11.252648Z",
     "start_time": "2023-03-27T03:49:08.641956Z"
    }
   },
   "outputs": [
    {
     "name": "stdout",
     "output_type": "stream",
     "text": [
      "Requirement already satisfied: wordcloud in c:\\users\\smhrd\\anaconda3\\lib\\site-packages (1.8.2.2)\n",
      "Requirement already satisfied: pillow in c:\\users\\smhrd\\anaconda3\\lib\\site-packages (from wordcloud) (9.2.0)\n",
      "Requirement already satisfied: matplotlib in c:\\users\\smhrd\\anaconda3\\lib\\site-packages (from wordcloud) (3.5.2)\n",
      "Requirement already satisfied: numpy>=1.6.1 in c:\\users\\smhrd\\anaconda3\\lib\\site-packages (from wordcloud) (1.21.5)\n",
      "Requirement already satisfied: python-dateutil>=2.7 in c:\\users\\smhrd\\anaconda3\\lib\\site-packages (from matplotlib->wordcloud) (2.8.2)\n",
      "Requirement already satisfied: pyparsing>=2.2.1 in c:\\users\\smhrd\\anaconda3\\lib\\site-packages (from matplotlib->wordcloud) (3.0.9)\n",
      "Requirement already satisfied: packaging>=20.0 in c:\\users\\smhrd\\anaconda3\\lib\\site-packages (from matplotlib->wordcloud) (21.3)\n",
      "Requirement already satisfied: cycler>=0.10 in c:\\users\\smhrd\\anaconda3\\lib\\site-packages (from matplotlib->wordcloud) (0.11.0)\n",
      "Requirement already satisfied: fonttools>=4.22.0 in c:\\users\\smhrd\\anaconda3\\lib\\site-packages (from matplotlib->wordcloud) (4.25.0)\n",
      "Requirement already satisfied: kiwisolver>=1.0.1 in c:\\users\\smhrd\\anaconda3\\lib\\site-packages (from matplotlib->wordcloud) (1.4.2)\n",
      "Requirement already satisfied: six>=1.5 in c:\\users\\smhrd\\anaconda3\\lib\\site-packages (from python-dateutil>=2.7->matplotlib->wordcloud) (1.16.0)\n",
      "Note: you may need to restart the kernel to use updated packages.\n"
     ]
    }
   ],
   "source": [
    "# 라이브러리 설치\n",
    "# !pip install 설치할 라이브러리명\n",
    "# !pip install 설치할 라이브러리명==버전 (버전 맞추고 싶을 때)\n",
    "\n",
    "%pip install wordcloud"
   ]
  },
  {
   "cell_type": "code",
   "execution_count": 18,
   "metadata": {
    "ExecuteTime": {
     "end_time": "2023-03-27T03:49:41.242736Z",
     "start_time": "2023-03-27T03:49:40.821679Z"
    }
   },
   "outputs": [],
   "source": [
    "# 텍스트 데이터를 단어로 구분한 다음 빈도수를 확인하는 라이브러리 (워드클라우드)\n",
    "from wordcloud import WordCloud\n",
    "# 단어의 빈도수를 가지고 워드클라우드를 그리기 위함\n",
    "import matplotlib.pyplot as plt"
   ]
  },
  {
   "cell_type": "code",
   "execution_count": 19,
   "metadata": {
    "ExecuteTime": {
     "end_time": "2023-03-27T03:49:42.803412Z",
     "start_time": "2023-03-27T03:49:42.797427Z"
    }
   },
   "outputs": [],
   "source": [
    "repleData = open('영화리뷰 100페이지.txt', 'r', encoding='cp949').readline()"
   ]
  },
  {
   "cell_type": "code",
   "execution_count": 20,
   "metadata": {
    "ExecuteTime": {
     "end_time": "2023-03-27T03:51:03.724094Z",
     "start_time": "2023-03-27T03:51:03.701156Z"
    }
   },
   "outputs": [],
   "source": [
    "# repleData에 저장된 리뷰데이터를 WordCloud로 단어 빈도수 체크\n",
    "# WordCloud() : 배경색, 글자색, 글씨체 등 워드클라우드 스타일 옵션 변경\n",
    "# generate() : repleData에 저장된 리뷰 데이터를 WordCloud로 단어 빈도수 체크\n",
    "wc = WordCloud(font_path = 'C:/Windows/Fonts/malgun.ttf').generate(repleData)"
   ]
  },
  {
   "cell_type": "code",
   "execution_count": 21,
   "metadata": {
    "ExecuteTime": {
     "end_time": "2023-03-27T03:49:11.464066Z",
     "start_time": "2023-03-27T03:49:11.464066Z"
    }
   },
   "outputs": [
    {
     "data": {
      "text/plain": [
       "(-0.5, 399.5, 199.5, -0.5)"
      ]
     },
     "execution_count": 21,
     "metadata": {},
     "output_type": "execute_result"
    },
    {
     "data": {
      "image/png": "[encoded data removed]",
      "text/plain": [
       "<Figure size 200x400 with 1 Axes>"
      ]
     },
     "metadata": {},
     "output_type": "display_data"
    }
   ],
   "source": [
    "# 워드클라우드를 이용해서 시각화\n",
    "plt.figure(figsize= (2, 4))\n",
    "\n",
    "plt.imshow(wc)\n",
    "\n",
    "# axis() : x축, y축 라벨 출력 관련 함수\n",
    "# 기본값 : x축, y축 자동 할당(출 라벨 표현 유무)\n",
    "plt.axis('off')"
   ]
  },
  {
   "cell_type": "code",
   "execution_count": null,
   "metadata": {},
   "outputs": [],
   "source": []
  },
  {
   "cell_type": "code",
   "execution_count": null,
   "metadata": {},
   "outputs": [],
   "source": []
  }
 ],
 "metadata": {
  "kernelspec": {
   "display_name": "Python 3 (ipykernel)",
   "language": "python",
   "name": "python3"
  },
  "language_info": {
   "codemirror_mode": {
    "name": "ipython",
    "version": 3
   },
   "file_extension": ".py",
   "mimetype": "text/x-python",
   "name": "python",
   "nbconvert_exporter": "python",
   "pygments_lexer": "ipython3",
   "version": "3.9.13"
  },
  "toc": {
   "base_numbering": 1,
   "nav_menu": {},
   "number_sections": true,
   "sideBar": true,
   "skip_h1_title": false,
   "title_cell": "Table of Contents",
   "title_sidebar": "Contents",
   "toc_cell": false,
   "toc_position": {},
   "toc_section_display": true,
   "toc_window_display": false
  },
  "varInspector": {
   "cols": {
    "lenName": 16,
    "lenType": 16,
    "lenVar": 40
   },
   "kernels_config": {
    "python": {
     "delete_cmd_postfix": "",
     "delete_cmd_prefix": "del ",
     "library": "var_list.py",
     "varRefreshCmd": "print(var_dic_list())"
    },
    "r": {
     "delete_cmd_postfix": ") ",
     "delete_cmd_prefix": "rm(",
     "library": "var_list.r",
     "varRefreshCmd": "cat(var_dic_list()) "
    }
   },
   "types_to_exclude": [
    "module",
    "function",
    "builtin_function_or_method",
    "instance",
    "_Feature"
   ],
   "window_display": false
  }
 },
 "nbformat": 4,
 "nbformat_minor": 2
}
