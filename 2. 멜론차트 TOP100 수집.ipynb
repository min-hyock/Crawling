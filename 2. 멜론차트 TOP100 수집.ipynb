{
 "cells": [
  {
   "cell_type": "code",
   "execution_count": 176,
   "metadata": {},
   "outputs": [],
   "source": [
    "# 라이브러리 로딩\n",
    "import requests as req\n",
    "from bs4 import BeautifulSoup as bs"
   ]
  },
  {
   "cell_type": "code",
   "execution_count": 177,
   "metadata": {},
   "outputs": [
    {
     "data": {
      "text/plain": [
       "<Response [406]>"
      ]
     },
     "execution_count": 177,
     "metadata": {},
     "output_type": "execute_result"
    }
   ],
   "source": [
    "# 멜론차트 페이지 정보 받아오기\n",
    "url = 'https://www.melon.com/chart/'\n",
    "req.get(url)\n",
    "\n",
    "# 400번대 오류 : 클라이언트의 요청 문제\n",
    "# 멜론에서 브라우저가 아닌 코드로 페이지를 접근함을 인지하여 접근 불가능 !!"
   ]
  },
  {
   "attachments": {},
   "cell_type": "markdown",
   "metadata": {},
   "source": [
    "### 멜론 페이지에 브라우저인척 속여서 접근하기\n",
    "- 개발자 도구에서 'Network' 탭 클릭\n",
    "    - 이미 정보를 주고받은 뒤 통신이 끊겼기 때문에 탭을 클릭하였다 하더라도 빈 페이지 상태\n",
    "    \n",
    "    - 새로고침을 해서 주고받는 데이터들을 다시 불러주어야 함\n",
    "    - 데이터 중에서 Type이 document인 문서를 클릭 !\n",
    "    \n",
    "- 브라우저로 접근을 했다는 것을 알려주는 코드가 있다 -> User-Agent\n",
    "    - Chrome, Safari 등 접근이 가능한 정보가 담겨있다\n",
    "    \n",
    "    - 코드를 통해 접근했기 때문에 접근 가능한 정보가 들어가지 않는 것\n",
    "    - User-Agent 전체 코드를 복사해서 코드로 가져오기"
   ]
  },
  {
   "cell_type": "code",
   "execution_count": 178,
   "metadata": {},
   "outputs": [],
   "source": [
    "# 가져온 코드가 어떤 타입인지 알 수 없다.\n",
    "# 파이썬에서 가져온 코드이기 떄문에 알맞는 타입으로 변경 해줘여 함\n",
    "# 콜론 발견 -> 키와 벨류룰 가지는 딕셔너리가 알맞겠다 !\n",
    "\n",
    "h = {'User-Agent' : 'Mozilla/5.0 (Windows NT 10.0; Win64; x64) AppleWebKit/537.36 (KHTML, like Gecko) Chrome/111.0.0.0 Safari/537.36'}"
   ]
  },
  {
   "attachments": {},
   "cell_type": "markdown",
   "metadata": {},
   "source": [
    "### headers 작업\n",
    "- 컴퓨터(코드)가 아닌 사람(브라우저)으로 속여주는 작업\n",
    "\n",
    "- 요청할 때 headers 값을 같이 채워서 요청 해주어야 한다.\n",
    "    - req.get(url, headers = 헤더정보)"
   ]
  },
  {
   "cell_type": "code",
   "execution_count": 179,
   "metadata": {},
   "outputs": [],
   "source": [
    "url = 'https://www.melon.com/chart/'\n",
    "h = {'User-Agent' : 'Mozilla/5.0 (Windows NT 10.0; Win64; x64) AppleWebKit/537.36 (KHTML, like Gecko) Chrome/111.0.0.0 Safari/537.36'}\n",
    "\n",
    "res = req.get(url, headers = h)"
   ]
  },
  {
   "cell_type": "code",
   "execution_count": 180,
   "metadata": {},
   "outputs": [],
   "source": [
    "# bs 객체화\n",
    "soup = bs(res.text, 'lxml')"
   ]
  },
  {
   "attachments": {},
   "cell_type": "markdown",
   "metadata": {},
   "source": [
    "### 멜론차트 데이터 수집\n",
    "- 노래 제목\n",
    "- 가수 이름"
   ]
  },
  {
   "cell_type": "code",
   "execution_count": 181,
   "metadata": {},
   "outputs": [
    {
     "data": {
      "text/plain": [
       "100"
      ]
     },
     "execution_count": 181,
     "metadata": {},
     "output_type": "execute_result"
    }
   ],
   "source": [
    "# 1. 노래 제목 수집\n",
    "# 내가 수집하고자 하는 태그에 구분자(id, class)가 없었다..\n",
    "# 그 요소를 포함하고 있는 부모 태그를 타고타고 올라가서 가져와야 함 (한칸씩 !)\n",
    "\n",
    "title = soup.select('div.ellipsis.rank01 > span > a')\n",
    "len(title)\n",
    "\n",
    "# 주 의 사 항\n",
    "# 하나의 클래스 이름 안에 띄어쓰기가 있는 경우\n",
    "# 클래스가 다수인 경우 -> 띄어쓰기(자손 부등호)를 온접(클래스 부등호)으로 변경"
   ]
  },
  {
   "cell_type": "code",
   "execution_count": 182,
   "metadata": {},
   "outputs": [
    {
     "data": {
      "text/plain": [
       "'NewJeans'"
      ]
     },
     "execution_count": 182,
     "metadata": {},
     "output_type": "execute_result"
    }
   ],
   "source": [
    "# 2. 가수 이름 수집\n",
    "\n",
    "singer = soup.select('div.ellipsis.rank02 > span')\n",
    "len(singer)\n",
    "singer[0].text"
   ]
  },
  {
   "attachments": {},
   "cell_type": "markdown",
   "metadata": {},
   "source": [
    "### 개수가 정해져 있는 데이터를 수집할 때에는 반드시 개수가 맞는지 확인"
   ]
  },
  {
   "cell_type": "code",
   "execution_count": 183,
   "metadata": {},
   "outputs": [],
   "source": [
    "# 수집한 정보를 리스트로 저장\n",
    "title_list = []\n",
    "singer_list = []\n",
    "\n",
    "for i in range(len(title)) :\n",
    "    title_list.append(title[i].text)\n",
    "    singer_list.append(singer[i].text)"
   ]
  },
  {
   "cell_type": "code",
   "execution_count": 184,
   "metadata": {},
   "outputs": [
    {
     "data": {
      "text/plain": [
       "(100, 100)"
      ]
     },
     "execution_count": 184,
     "metadata": {},
     "output_type": "execute_result"
    }
   ],
   "source": [
    "# 길이 확인 ! --> 데이터 프레임으로 만들기 위한 준비 !!\n",
    "len(title_list), len(singer_list)"
   ]
  },
  {
   "cell_type": "code",
   "execution_count": 185,
   "metadata": {},
   "outputs": [],
   "source": [
    "# for문 다른 방법\n",
    "# 2개 이상의 리스트에 접근할 때 아래와 같은 for문 구조는 불편하다.\n",
    "title_list2 = []\n",
    "\n",
    "for i in title :\n",
    "    title_list2.append(i.text)"
   ]
  },
  {
   "cell_type": "code",
   "execution_count": 186,
   "metadata": {},
   "outputs": [],
   "source": [
    "singer_list2 = []\n",
    "\n",
    "for i in singer :\n",
    "    singer_list2.append(i.text)"
   ]
  },
  {
   "cell_type": "code",
   "execution_count": 188,
   "metadata": {},
   "outputs": [],
   "source": [
    "import pandas as pd\n",
    "\n",
    "# 1. 수집한 여러 개의 리스트를 하나의 딕셔너리로 생성\n",
    "# 2. 딕셔너리를 활용해서 데이터프리임 생성\n",
    "# 노래제목 : 데이터, 가수 : 데이터\n",
    "data = {'노래제목':title_list, '가수':singer_list}\n",
    "melon = pd.DataFrame(data)"
   ]
  },
  {
   "cell_type": "code",
   "execution_count": 192,
   "metadata": {},
   "outputs": [],
   "source": [
    "# 데이터프레임명.to_csv() : 데이터프레임을 파일로 저장하기\n",
    "# to_csv(저장하고 싶은 파일명, 확장자)\n",
    "# 한글 저장할 때 인코딩 해주기 !\n",
    "\n",
    "# 인코딩 방식 : euc-kr / utf-8 / cp949\n",
    "# sep(seperate 구분자) : 하나의 기호만 사용 가능\n",
    "melon.to_csv('멜론차트 TOP100.txt', encoding='euc-kr', sep='\\t')"
   ]
  },
  {
   "cell_type": "code",
   "execution_count": 193,
   "metadata": {},
   "outputs": [],
   "source": [
    "# 경로 설정하기\n",
    "melon.to_csv('C:/Users/smhrd/Desktop/멜론차트.txt', encoding='euc-kr', sep='\\t')"
   ]
  },
  {
   "attachments": {},
   "cell_type": "markdown",
   "metadata": {},
   "source": [
    "### csv는 txt(메모장) 파일과 excel(엑셀) 파일 둘 다 지원한다\n",
    "- 주 의 ! 내가 저장하고 싶은 파일의 확장자를 정확히 적어주자 !\n",
    "> csv의 장점 : excel보다 용량이 작고, 지원되는 폭이 넓다.  \n",
    "> csv의 단점 : excel에 비해 다양한 작업은 불가능하다."
   ]
  }
 ],
 "metadata": {
  "kernelspec": {
   "display_name": "base",
   "language": "python",
   "name": "python3"
  },
  "language_info": {
   "codemirror_mode": {
    "name": "ipython",
    "version": 3
   },
   "file_extension": ".py",
   "mimetype": "text/x-python",
   "name": "python",
   "nbconvert_exporter": "python",
   "pygments_lexer": "ipython3",
   "version": "3.9.13"
  },
  "orig_nbformat": 4
 },
 "nbformat": 4,
 "nbformat_minor": 2
}
